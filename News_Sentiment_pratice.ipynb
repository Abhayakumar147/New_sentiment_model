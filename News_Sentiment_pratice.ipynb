{
 "cells": [
  {
   "cell_type": "code",
   "execution_count": 1,
   "id": "0236953f",
   "metadata": {},
   "outputs": [
    {
     "name": "stdout",
     "output_type": "stream",
     "text": [
      "Requirement already satisfied: imblearn in d:\\anaconda\\lib\\site-packages (0.0)\n",
      "Requirement already satisfied: imbalanced-learn in d:\\anaconda\\lib\\site-packages (from imblearn) (0.12.0)\n",
      "Requirement already satisfied: threadpoolctl>=2.0.0 in d:\\anaconda\\lib\\site-packages (from imbalanced-learn->imblearn) (2.2.0)\n",
      "Requirement already satisfied: scipy>=1.5.0 in d:\\anaconda\\lib\\site-packages (from imbalanced-learn->imblearn) (1.9.1)\n",
      "Requirement already satisfied: joblib>=1.1.1 in d:\\anaconda\\lib\\site-packages (from imbalanced-learn->imblearn) (1.3.2)\n",
      "Requirement already satisfied: numpy>=1.17.3 in d:\\anaconda\\lib\\site-packages (from imbalanced-learn->imblearn) (1.21.5)\n",
      "Requirement already satisfied: scikit-learn>=1.0.2 in d:\\anaconda\\lib\\site-packages (from imbalanced-learn->imblearn) (1.0.2)\n",
      "Note: you may need to restart the kernel to use updated packages.\n"
     ]
    }
   ],
   "source": [
    "pip install imblearn"
   ]
  },
  {
   "cell_type": "code",
   "execution_count": 5,
   "id": "704c3c5c",
   "metadata": {},
   "outputs": [],
   "source": [
    "import pandas as pd\n",
    "import csv\n",
    "from imblearn.over_sampling import SMOTE\n",
    "from sklearn.feature_extraction.text import TfidfVectorizer\n",
    "from sklearn.model_selection import train_test_split\n",
    "from sklearn.linear_model import LogisticRegression\n",
    "from sklearn.metrics import accuracy_score\n",
    "from sklearn.pipeline import make_pipeline\n",
    "from sklearn.feature_extraction.text import HashingVectorizer\n",
    "import seaborn as sns\n",
    "import matplotlib.pyplot as plt\n",
    "from sklearn.metrics import classification_report\n",
    "from sklearn.ensemble import GradientBoostingClassifier"
   ]
  },
  {
   "cell_type": "code",
   "execution_count": 3,
   "id": "0204b318",
   "metadata": {},
   "outputs": [],
   "source": [
    "def read_data(csv_file):\n",
    "    data =[]\n",
    "    with open(csv_file, 'r', encoding='utf-8') as file:\n",
    "        reader = csv.reader(file)\n",
    "        for row in reader:\n",
    "            data.append(row)\n",
    "    header = data[0]\n",
    "    # Create DataFrame from the remaining rows (excluding the header row)\n",
    "    df = pd.DataFrame(data[1:], columns=header)\n",
    "    df.rename(columns={header[0]: 'Bookmark'}, inplace=True)\n",
    "    return df"
   ]
  },
  {
   "cell_type": "code",
   "execution_count": 4,
   "id": "1c571054",
   "metadata": {},
   "outputs": [
    {
     "data": {
      "text/html": [
       "<div>\n",
       "<style scoped>\n",
       "    .dataframe tbody tr th:only-of-type {\n",
       "        vertical-align: middle;\n",
       "    }\n",
       "\n",
       "    .dataframe tbody tr th {\n",
       "        vertical-align: top;\n",
       "    }\n",
       "\n",
       "    .dataframe thead th {\n",
       "        text-align: right;\n",
       "    }\n",
       "</style>\n",
       "<table border=\"1\" class=\"dataframe\">\n",
       "  <thead>\n",
       "    <tr style=\"text-align: right;\">\n",
       "      <th></th>\n",
       "      <th>Bookmark</th>\n",
       "      <th>Datetime</th>\n",
       "      <th>Summary Sentiment</th>\n",
       "      <th>Headline</th>\n",
       "      <th>Summary</th>\n",
       "      <th>Source</th>\n",
       "    </tr>\n",
       "  </thead>\n",
       "  <tbody>\n",
       "    <tr>\n",
       "      <th>0</th>\n",
       "      <td>No</td>\n",
       "      <td>2024-02-12 15:49:00</td>\n",
       "      <td>-0.99</td>\n",
       "      <td>PSU banking stocks drag down Sensex, Nifty; an...</td>\n",
       "      <td>Analysts expect markets to observe consolidati...</td>\n",
       "      <td>Money Control</td>\n",
       "    </tr>\n",
       "    <tr>\n",
       "      <th>1</th>\n",
       "      <td>No</td>\n",
       "      <td>2024-02-12 15:49:00</td>\n",
       "      <td>-0.99</td>\n",
       "      <td>Mamaearth parent Honasa Consumer stock soars 1...</td>\n",
       "      <td>Analysts at JPMorgan downgraded the stock to '...</td>\n",
       "      <td>Money Control</td>\n",
       "    </tr>\n",
       "    <tr>\n",
       "      <th>2</th>\n",
       "      <td>No</td>\n",
       "      <td>2024-02-12 15:41:00</td>\n",
       "      <td>-0.99</td>\n",
       "      <td>Live: Nifty sees triple-digit fall; Smallcaps ...</td>\n",
       "      <td>PSU stocks come under pressure dragging the be...</td>\n",
       "      <td>Money Control</td>\n",
       "    </tr>\n",
       "    <tr>\n",
       "      <th>3</th>\n",
       "      <td>No</td>\n",
       "      <td>2024-02-12 15:36:00</td>\n",
       "      <td>-0.96</td>\n",
       "      <td>Bandhan Bank slumps over 7% as weak asset qual...</td>\n",
       "      <td>Release of claims under government guarantees ...</td>\n",
       "      <td>Money Control</td>\n",
       "    </tr>\n",
       "    <tr>\n",
       "      <th>4</th>\n",
       "      <td>No</td>\n",
       "      <td>2024-02-12 15:35:00</td>\n",
       "      <td>-0.97</td>\n",
       "      <td>Entero Healthcare Solutions IPO sees muted res...</td>\n",
       "      <td>The Faridabad-based healthcare products distri...</td>\n",
       "      <td>Money Control</td>\n",
       "    </tr>\n",
       "  </tbody>\n",
       "</table>\n",
       "</div>"
      ],
      "text/plain": [
       "  Bookmark             Datetime Summary Sentiment  \\\n",
       "0       No  2024-02-12 15:49:00             -0.99   \n",
       "1       No  2024-02-12 15:49:00             -0.99   \n",
       "2       No  2024-02-12 15:41:00             -0.99   \n",
       "3       No  2024-02-12 15:36:00             -0.96   \n",
       "4       No  2024-02-12 15:35:00             -0.97   \n",
       "\n",
       "                                            Headline  \\\n",
       "0  PSU banking stocks drag down Sensex, Nifty; an...   \n",
       "1  Mamaearth parent Honasa Consumer stock soars 1...   \n",
       "2  Live: Nifty sees triple-digit fall; Smallcaps ...   \n",
       "3  Bandhan Bank slumps over 7% as weak asset qual...   \n",
       "4  Entero Healthcare Solutions IPO sees muted res...   \n",
       "\n",
       "                                             Summary         Source  \n",
       "0  Analysts expect markets to observe consolidati...  Money Control  \n",
       "1  Analysts at JPMorgan downgraded the stock to '...  Money Control  \n",
       "2  PSU stocks come under pressure dragging the be...  Money Control  \n",
       "3  Release of claims under government guarantees ...  Money Control  \n",
       "4  The Faridabad-based healthcare products distri...  Money Control  "
      ]
     },
     "execution_count": 4,
     "metadata": {},
     "output_type": "execute_result"
    }
   ],
   "source": [
    "csv_file = \"C:\\\\Users\\\\tkaly\\\\lucky\\\\Hands_on_pratice\\\\News_sentiment\\\\news_2024-02-12_16-14-41.csv\"\n",
    "df1 = read_data(csv_file)\n",
    "df1.head()"
   ]
  },
  {
   "cell_type": "code",
   "execution_count": 5,
   "id": "d9d6c4aa",
   "metadata": {},
   "outputs": [
    {
     "data": {
      "text/html": [
       "<div>\n",
       "<style scoped>\n",
       "    .dataframe tbody tr th:only-of-type {\n",
       "        vertical-align: middle;\n",
       "    }\n",
       "\n",
       "    .dataframe tbody tr th {\n",
       "        vertical-align: top;\n",
       "    }\n",
       "\n",
       "    .dataframe thead th {\n",
       "        text-align: right;\n",
       "    }\n",
       "</style>\n",
       "<table border=\"1\" class=\"dataframe\">\n",
       "  <thead>\n",
       "    <tr style=\"text-align: right;\">\n",
       "      <th></th>\n",
       "      <th>Bookmark</th>\n",
       "      <th>Datetime</th>\n",
       "      <th>Summary Sentiment</th>\n",
       "      <th>Headline</th>\n",
       "      <th>Summary</th>\n",
       "      <th>Source</th>\n",
       "    </tr>\n",
       "  </thead>\n",
       "  <tbody>\n",
       "    <tr>\n",
       "      <th>0</th>\n",
       "      <td>Yes</td>\n",
       "      <td>2024-02-13 15:20:00</td>\n",
       "      <td>0.88</td>\n",
       "      <td>Info Edge back in black in Q3 after a surprise...</td>\n",
       "      <td>The company’s consolidated revenue increased b...</td>\n",
       "      <td>Money Control</td>\n",
       "    </tr>\n",
       "    <tr>\n",
       "      <th>1</th>\n",
       "      <td>Yes</td>\n",
       "      <td>2024-02-13 15:19:00</td>\n",
       "      <td>0.94</td>\n",
       "      <td>Eicher Motors Q3 results: Net profit surges 34...</td>\n",
       "      <td>The automaker’s revenue increased 12.28 per ce...</td>\n",
       "      <td>Money Control</td>\n",
       "    </tr>\n",
       "    <tr>\n",
       "      <th>2</th>\n",
       "      <td>No</td>\n",
       "      <td>2024-02-13 15:09:43.029172</td>\n",
       "      <td>0.99</td>\n",
       "      <td>“Very proud of our diaspora,” says PM Modi ahe...</td>\n",
       "      <td>The PM also emphasised that he looks forward t...</td>\n",
       "      <td>Zerodha</td>\n",
       "    </tr>\n",
       "    <tr>\n",
       "      <th>3</th>\n",
       "      <td>No</td>\n",
       "      <td>2024-02-13 15:08:00</td>\n",
       "      <td>0.9</td>\n",
       "      <td>Relative outperformer candidates for a volatil...</td>\n",
       "      <td>On Monday, when the whole market was reeling u...</td>\n",
       "      <td>Economic Times</td>\n",
       "    </tr>\n",
       "    <tr>\n",
       "      <th>4</th>\n",
       "      <td>Yes</td>\n",
       "      <td>2024-02-13 15:02:00</td>\n",
       "      <td>-0.99</td>\n",
       "      <td>Siemens Q3 net profit rises 9% to Rs 5,057 cro...</td>\n",
       "      <td>The company's EBITDA margin fell nearly 170 ba...</td>\n",
       "      <td>Money Control</td>\n",
       "    </tr>\n",
       "  </tbody>\n",
       "</table>\n",
       "</div>"
      ],
      "text/plain": [
       "  Bookmark                    Datetime Summary Sentiment  \\\n",
       "0      Yes         2024-02-13 15:20:00              0.88   \n",
       "1      Yes         2024-02-13 15:19:00              0.94   \n",
       "2       No  2024-02-13 15:09:43.029172              0.99   \n",
       "3       No         2024-02-13 15:08:00               0.9   \n",
       "4      Yes         2024-02-13 15:02:00             -0.99   \n",
       "\n",
       "                                            Headline  \\\n",
       "0  Info Edge back in black in Q3 after a surprise...   \n",
       "1  Eicher Motors Q3 results: Net profit surges 34...   \n",
       "2  “Very proud of our diaspora,” says PM Modi ahe...   \n",
       "3  Relative outperformer candidates for a volatil...   \n",
       "4  Siemens Q3 net profit rises 9% to Rs 5,057 cro...   \n",
       "\n",
       "                                             Summary          Source  \n",
       "0  The company’s consolidated revenue increased b...   Money Control  \n",
       "1  The automaker’s revenue increased 12.28 per ce...   Money Control  \n",
       "2  The PM also emphasised that he looks forward t...         Zerodha  \n",
       "3  On Monday, when the whole market was reeling u...  Economic Times  \n",
       "4  The company's EBITDA margin fell nearly 170 ba...   Money Control  "
      ]
     },
     "execution_count": 5,
     "metadata": {},
     "output_type": "execute_result"
    }
   ],
   "source": [
    "csv_file = \"C:\\\\Users\\\\tkaly\\\\lucky\\\\Hands_on_pratice\\\\News_sentiment\\\\news_2024-02-13_15-34-49.csv\"\n",
    "df2 = read_data(csv_file)\n",
    "df2.head()"
   ]
  },
  {
   "cell_type": "code",
   "execution_count": 6,
   "id": "90ba9f30",
   "metadata": {},
   "outputs": [
    {
     "data": {
      "text/html": [
       "<div>\n",
       "<style scoped>\n",
       "    .dataframe tbody tr th:only-of-type {\n",
       "        vertical-align: middle;\n",
       "    }\n",
       "\n",
       "    .dataframe tbody tr th {\n",
       "        vertical-align: top;\n",
       "    }\n",
       "\n",
       "    .dataframe thead th {\n",
       "        text-align: right;\n",
       "    }\n",
       "</style>\n",
       "<table border=\"1\" class=\"dataframe\">\n",
       "  <thead>\n",
       "    <tr style=\"text-align: right;\">\n",
       "      <th></th>\n",
       "      <th>Bookmark</th>\n",
       "      <th>Datetime</th>\n",
       "      <th>Summary Sentiment</th>\n",
       "      <th>Headline</th>\n",
       "      <th>Summary</th>\n",
       "      <th>Source</th>\n",
       "    </tr>\n",
       "  </thead>\n",
       "  <tbody>\n",
       "    <tr>\n",
       "      <th>0</th>\n",
       "      <td>No</td>\n",
       "      <td>2024-02-14 15:31:00</td>\n",
       "      <td>-0.99</td>\n",
       "      <td>Paytm shares crash 10% to all-time lows as ED ...</td>\n",
       "      <td>Since January 31, after the RBI imposed its re...</td>\n",
       "      <td>Money Control</td>\n",
       "    </tr>\n",
       "    <tr>\n",
       "      <th>1</th>\n",
       "      <td>No</td>\n",
       "      <td>2024-02-14 15:26:00</td>\n",
       "      <td>-0.99</td>\n",
       "      <td>Check vitals before admitting them in your por...</td>\n",
       "      <td>In the last three days, including this morning...</td>\n",
       "      <td>Economic Times</td>\n",
       "    </tr>\n",
       "    <tr>\n",
       "      <th>2</th>\n",
       "      <td>No</td>\n",
       "      <td>2024-02-14 15:24:00</td>\n",
       "      <td>0.97</td>\n",
       "      <td>Divergence between mid-, large-cap performance...</td>\n",
       "      <td>The Nifty Midcap Select index aims to track th...</td>\n",
       "      <td>Money Control</td>\n",
       "    </tr>\n",
       "    <tr>\n",
       "      <th>3</th>\n",
       "      <td>No</td>\n",
       "      <td>2024-02-14 15:20:00</td>\n",
       "      <td>-0.99</td>\n",
       "      <td>FPIs' investment value rises 13% to $738 bn in...</td>\n",
       "      <td>However, FPIs' contribution to Indian equity m...</td>\n",
       "      <td>Economic Times</td>\n",
       "    </tr>\n",
       "    <tr>\n",
       "      <th>4</th>\n",
       "      <td>No</td>\n",
       "      <td>2024-02-14 15:16:00</td>\n",
       "      <td>0.98</td>\n",
       "      <td>Majestic Rally! Rs 10,000 investment in RIL in...</td>\n",
       "      <td>It was in 2005 that RIL first hit the Rs 1 lak...</td>\n",
       "      <td>Economic Times</td>\n",
       "    </tr>\n",
       "  </tbody>\n",
       "</table>\n",
       "</div>"
      ],
      "text/plain": [
       "  Bookmark             Datetime Summary Sentiment  \\\n",
       "0       No  2024-02-14 15:31:00             -0.99   \n",
       "1       No  2024-02-14 15:26:00             -0.99   \n",
       "2       No  2024-02-14 15:24:00              0.97   \n",
       "3       No  2024-02-14 15:20:00             -0.99   \n",
       "4       No  2024-02-14 15:16:00              0.98   \n",
       "\n",
       "                                            Headline  \\\n",
       "0  Paytm shares crash 10% to all-time lows as ED ...   \n",
       "1  Check vitals before admitting them in your por...   \n",
       "2  Divergence between mid-, large-cap performance...   \n",
       "3  FPIs' investment value rises 13% to $738 bn in...   \n",
       "4  Majestic Rally! Rs 10,000 investment in RIL in...   \n",
       "\n",
       "                                             Summary          Source  \n",
       "0  Since January 31, after the RBI imposed its re...   Money Control  \n",
       "1  In the last three days, including this morning...  Economic Times  \n",
       "2  The Nifty Midcap Select index aims to track th...   Money Control  \n",
       "3  However, FPIs' contribution to Indian equity m...  Economic Times  \n",
       "4  It was in 2005 that RIL first hit the Rs 1 lak...  Economic Times  "
      ]
     },
     "execution_count": 6,
     "metadata": {},
     "output_type": "execute_result"
    }
   ],
   "source": [
    "csv_file = \"C:\\\\Users\\\\tkaly\\\\lucky\\\\Hands_on_pratice\\\\News_sentiment\\\\news_2024-02-14_15-45-43.csv\"\n",
    "df3 = read_data(csv_file)\n",
    "df3.head()"
   ]
  },
  {
   "cell_type": "code",
   "execution_count": 7,
   "id": "ac7583f1",
   "metadata": {},
   "outputs": [],
   "source": [
    "df4 = pd.concat([df1, df2], ignore_index=True)"
   ]
  },
  {
   "cell_type": "code",
   "execution_count": 8,
   "id": "103af831",
   "metadata": {},
   "outputs": [],
   "source": [
    "Combined_df = pd.concat([df3, df4], ignore_index=True)"
   ]
  },
  {
   "cell_type": "code",
   "execution_count": 9,
   "id": "ce1d3e5e",
   "metadata": {},
   "outputs": [
    {
     "name": "stdout",
     "output_type": "stream",
     "text": [
      "(326, 6)\n",
      "(445, 6)\n",
      "(411, 6)\n",
      "(771, 6)\n",
      "(1182, 6)\n"
     ]
    }
   ],
   "source": [
    "print(df1.shape)\n",
    "print(df2.shape)\n",
    "print(df3.shape)\n",
    "print(df4.shape)\n",
    "print(Combined_df.shape)"
   ]
  },
  {
   "cell_type": "code",
   "execution_count": 10,
   "id": "0af23d72",
   "metadata": {},
   "outputs": [],
   "source": [
    "Combined_df.Datetime = pd.to_datetime(Combined_df['Datetime'])"
   ]
  },
  {
   "cell_type": "code",
   "execution_count": 11,
   "id": "478f8357",
   "metadata": {},
   "outputs": [
    {
     "data": {
      "text/plain": [
       "Bookmark              0\n",
       "Datetime              0\n",
       "Summary Sentiment     0\n",
       "Headline              0\n",
       "Summary              57\n",
       "Source                0\n",
       "dtype: int64"
      ]
     },
     "execution_count": 11,
     "metadata": {},
     "output_type": "execute_result"
    }
   ],
   "source": [
    "Combined_df.isin(['', 'NA', 'NaN']).sum()"
   ]
  },
  {
   "cell_type": "code",
   "execution_count": 12,
   "id": "493878e3",
   "metadata": {},
   "outputs": [],
   "source": [
    "Combined_df['Summary'] = Combined_df.apply(lambda row: row['Headline'] if row['Summary'] == \"\" else row['Summary'], axis=1)"
   ]
  },
  {
   "cell_type": "code",
   "execution_count": 13,
   "id": "a12ed032",
   "metadata": {},
   "outputs": [
    {
     "data": {
      "text/plain": [
       "Bookmark             0\n",
       "Datetime             0\n",
       "Summary Sentiment    0\n",
       "Headline             0\n",
       "Summary              0\n",
       "Source               0\n",
       "dtype: int64"
      ]
     },
     "execution_count": 13,
     "metadata": {},
     "output_type": "execute_result"
    }
   ],
   "source": [
    "Combined_df.isin(['', 'NA', 'NaN']).sum()"
   ]
  },
  {
   "cell_type": "code",
   "execution_count": 14,
   "id": "a0f55e3b",
   "metadata": {},
   "outputs": [],
   "source": [
    "Combined_df['Bookmark'] = Combined_df['Bookmark'].map({'No': 0, 'Yes': 1})"
   ]
  },
  {
   "cell_type": "code",
   "execution_count": 15,
   "id": "575562c4",
   "metadata": {},
   "outputs": [
    {
     "data": {
      "text/html": [
       "<div>\n",
       "<style scoped>\n",
       "    .dataframe tbody tr th:only-of-type {\n",
       "        vertical-align: middle;\n",
       "    }\n",
       "\n",
       "    .dataframe tbody tr th {\n",
       "        vertical-align: top;\n",
       "    }\n",
       "\n",
       "    .dataframe thead th {\n",
       "        text-align: right;\n",
       "    }\n",
       "</style>\n",
       "<table border=\"1\" class=\"dataframe\">\n",
       "  <thead>\n",
       "    <tr style=\"text-align: right;\">\n",
       "      <th></th>\n",
       "      <th>Bookmark</th>\n",
       "      <th>Datetime</th>\n",
       "      <th>Summary Sentiment</th>\n",
       "      <th>Headline</th>\n",
       "      <th>Summary</th>\n",
       "      <th>Source</th>\n",
       "    </tr>\n",
       "  </thead>\n",
       "  <tbody>\n",
       "    <tr>\n",
       "      <th>0</th>\n",
       "      <td>0</td>\n",
       "      <td>2024-02-14 15:31:00.000000</td>\n",
       "      <td>-0.99</td>\n",
       "      <td>Paytm shares crash 10% to all-time lows as ED ...</td>\n",
       "      <td>Since January 31, after the RBI imposed its re...</td>\n",
       "      <td>Money Control</td>\n",
       "    </tr>\n",
       "    <tr>\n",
       "      <th>1</th>\n",
       "      <td>0</td>\n",
       "      <td>2024-02-14 15:26:00.000000</td>\n",
       "      <td>-0.99</td>\n",
       "      <td>Check vitals before admitting them in your por...</td>\n",
       "      <td>In the last three days, including this morning...</td>\n",
       "      <td>Economic Times</td>\n",
       "    </tr>\n",
       "    <tr>\n",
       "      <th>2</th>\n",
       "      <td>0</td>\n",
       "      <td>2024-02-14 15:24:00.000000</td>\n",
       "      <td>0.97</td>\n",
       "      <td>Divergence between mid-, large-cap performance...</td>\n",
       "      <td>The Nifty Midcap Select index aims to track th...</td>\n",
       "      <td>Money Control</td>\n",
       "    </tr>\n",
       "    <tr>\n",
       "      <th>3</th>\n",
       "      <td>0</td>\n",
       "      <td>2024-02-14 15:20:00.000000</td>\n",
       "      <td>-0.99</td>\n",
       "      <td>FPIs' investment value rises 13% to $738 bn in...</td>\n",
       "      <td>However, FPIs' contribution to Indian equity m...</td>\n",
       "      <td>Economic Times</td>\n",
       "    </tr>\n",
       "    <tr>\n",
       "      <th>4</th>\n",
       "      <td>0</td>\n",
       "      <td>2024-02-14 15:16:00.000000</td>\n",
       "      <td>0.98</td>\n",
       "      <td>Majestic Rally! Rs 10,000 investment in RIL in...</td>\n",
       "      <td>It was in 2005 that RIL first hit the Rs 1 lak...</td>\n",
       "      <td>Economic Times</td>\n",
       "    </tr>\n",
       "    <tr>\n",
       "      <th>...</th>\n",
       "      <td>...</td>\n",
       "      <td>...</td>\n",
       "      <td>...</td>\n",
       "      <td>...</td>\n",
       "      <td>...</td>\n",
       "      <td>...</td>\n",
       "    </tr>\n",
       "    <tr>\n",
       "      <th>1177</th>\n",
       "      <td>0</td>\n",
       "      <td>2024-02-12 16:00:43.030168</td>\n",
       "      <td>0.74</td>\n",
       "      <td>Airbus CEO Says Boeing 737 Max Blowout ‘Makes ...</td>\n",
       "      <td>Airbus SE Chief Executive Officer Guillaume Fa...</td>\n",
       "      <td>Zerodha</td>\n",
       "    </tr>\n",
       "    <tr>\n",
       "      <th>1178</th>\n",
       "      <td>0</td>\n",
       "      <td>2024-02-12 16:00:43.030168</td>\n",
       "      <td>0.98</td>\n",
       "      <td>Draft Guidelines For Notification Of Private A...</td>\n",
       "      <td>The formulation of draft guidelines for the no...</td>\n",
       "      <td>Zerodha</td>\n",
       "    </tr>\n",
       "    <tr>\n",
       "      <th>1179</th>\n",
       "      <td>0</td>\n",
       "      <td>2024-02-12 15:30:43.030168</td>\n",
       "      <td>0.52</td>\n",
       "      <td>OMCs in the last leg of the rally; like gas ut...</td>\n",
       "      <td>Exuberance is observed in mid and smallcaps, w...</td>\n",
       "      <td>Zerodha</td>\n",
       "    </tr>\n",
       "    <tr>\n",
       "      <th>1180</th>\n",
       "      <td>0</td>\n",
       "      <td>2024-02-12 15:30:43.030168</td>\n",
       "      <td>-0.98</td>\n",
       "      <td>MSCI announcement tomorrow: $1 billion inflow ...</td>\n",
       "      <td>The MSCI inclusion can lead to about $ 186 mil...</td>\n",
       "      <td>Zerodha</td>\n",
       "    </tr>\n",
       "    <tr>\n",
       "      <th>1181</th>\n",
       "      <td>0</td>\n",
       "      <td>2024-02-12 15:30:43.030168</td>\n",
       "      <td>-0.94</td>\n",
       "      <td>Park Hotels makes an impressive debut. What sh...</td>\n",
       "      <td>​Apeejay Surrendra Park Hotels on Monday debut...</td>\n",
       "      <td>Zerodha</td>\n",
       "    </tr>\n",
       "  </tbody>\n",
       "</table>\n",
       "<p>1182 rows × 6 columns</p>\n",
       "</div>"
      ],
      "text/plain": [
       "      Bookmark                   Datetime Summary Sentiment  \\\n",
       "0            0 2024-02-14 15:31:00.000000             -0.99   \n",
       "1            0 2024-02-14 15:26:00.000000             -0.99   \n",
       "2            0 2024-02-14 15:24:00.000000              0.97   \n",
       "3            0 2024-02-14 15:20:00.000000             -0.99   \n",
       "4            0 2024-02-14 15:16:00.000000              0.98   \n",
       "...        ...                        ...               ...   \n",
       "1177         0 2024-02-12 16:00:43.030168              0.74   \n",
       "1178         0 2024-02-12 16:00:43.030168              0.98   \n",
       "1179         0 2024-02-12 15:30:43.030168              0.52   \n",
       "1180         0 2024-02-12 15:30:43.030168             -0.98   \n",
       "1181         0 2024-02-12 15:30:43.030168             -0.94   \n",
       "\n",
       "                                               Headline  \\\n",
       "0     Paytm shares crash 10% to all-time lows as ED ...   \n",
       "1     Check vitals before admitting them in your por...   \n",
       "2     Divergence between mid-, large-cap performance...   \n",
       "3     FPIs' investment value rises 13% to $738 bn in...   \n",
       "4     Majestic Rally! Rs 10,000 investment in RIL in...   \n",
       "...                                                 ...   \n",
       "1177  Airbus CEO Says Boeing 737 Max Blowout ‘Makes ...   \n",
       "1178  Draft Guidelines For Notification Of Private A...   \n",
       "1179  OMCs in the last leg of the rally; like gas ut...   \n",
       "1180  MSCI announcement tomorrow: $1 billion inflow ...   \n",
       "1181  Park Hotels makes an impressive debut. What sh...   \n",
       "\n",
       "                                                Summary          Source  \n",
       "0     Since January 31, after the RBI imposed its re...   Money Control  \n",
       "1     In the last three days, including this morning...  Economic Times  \n",
       "2     The Nifty Midcap Select index aims to track th...   Money Control  \n",
       "3     However, FPIs' contribution to Indian equity m...  Economic Times  \n",
       "4     It was in 2005 that RIL first hit the Rs 1 lak...  Economic Times  \n",
       "...                                                 ...             ...  \n",
       "1177  Airbus SE Chief Executive Officer Guillaume Fa...         Zerodha  \n",
       "1178  The formulation of draft guidelines for the no...         Zerodha  \n",
       "1179  Exuberance is observed in mid and smallcaps, w...         Zerodha  \n",
       "1180  The MSCI inclusion can lead to about $ 186 mil...         Zerodha  \n",
       "1181  ​Apeejay Surrendra Park Hotels on Monday debut...         Zerodha  \n",
       "\n",
       "[1182 rows x 6 columns]"
      ]
     },
     "execution_count": 15,
     "metadata": {},
     "output_type": "execute_result"
    }
   ],
   "source": [
    "Combined_df"
   ]
  },
  {
   "cell_type": "code",
   "execution_count": 16,
   "id": "365cfa37",
   "metadata": {},
   "outputs": [
    {
     "data": {
      "image/png": "[encoded data removed]",
      "text/plain": [
       "<Figure size 640x480 with 1 Axes>"
      ]
     },
     "metadata": {},
     "output_type": "display_data"
    }
   ],
   "source": [
    "sns.countplot(x='Bookmark', data=Combined_df)\n",
    "plt.show()"
   ]
  },
  {
   "cell_type": "code",
   "execution_count": 17,
   "id": "bb0b49fe",
   "metadata": {},
   "outputs": [
    {
     "name": "stderr",
     "output_type": "stream",
     "text": [
      "D:\\anaconda\\lib\\site-packages\\sklearn\\utils\\validation.py:1688: FutureWarning: Feature names only support names that are all strings. Got feature names with dtypes: ['int', 'str']. An error will be raised in 1.2.\n",
      "  warnings.warn(\n"
     ]
    }
   ],
   "source": [
    "tfidf_vectorizer = TfidfVectorizer()\n",
    "X_text = Combined_df[['Summary', 'Headline', 'Source']].astype(str).apply(lambda x: ' '.join(x), axis=1)\n",
    "X_text_tfidf = tfidf_vectorizer.fit_transform(X_text)\n",
    "# Concatenating TF-IDF features with Sentiment feature\n",
    "X_processed = pd.concat([pd.DataFrame(X_text_tfidf.toarray()), Combined_df['Summary Sentiment']], axis=1)\n",
    "y = Combined_df['Bookmark']\n",
    "# Splitting the data into training and testing sets\n",
    "X_train, X_test, y_train, y_test = train_test_split(X_processed, y, test_size=0.2, random_state=42)\n",
    "# Applying SMOTE to balance the dataset\n",
    "smote = SMOTE(random_state=42)\n",
    "X_train_resampled, y_train_resampled = smote.fit_resample(X_train, y_train)"
   ]
  },
  {
   "cell_type": "code",
   "execution_count": 18,
   "id": "91236364",
   "metadata": {},
   "outputs": [
    {
     "data": {
      "text/plain": [
       "0    1152\n",
       "1      30\n",
       "Name: Bookmark, dtype: int64"
      ]
     },
     "execution_count": 18,
     "metadata": {},
     "output_type": "execute_result"
    }
   ],
   "source": [
    "Combined_df.Bookmark.value_counts()"
   ]
  },
  {
   "cell_type": "code",
   "execution_count": 19,
   "id": "96ef44c5",
   "metadata": {},
   "outputs": [
    {
     "data": {
      "text/plain": [
       "0    921\n",
       "1    921\n",
       "Name: Bookmark, dtype: int64"
      ]
     },
     "execution_count": 19,
     "metadata": {},
     "output_type": "execute_result"
    }
   ],
   "source": [
    "y_train_resampled.value_counts()"
   ]
  },
  {
   "cell_type": "code",
   "execution_count": 20,
   "id": "c658a35f",
   "metadata": {},
   "outputs": [
    {
     "name": "stderr",
     "output_type": "stream",
     "text": [
      "D:\\anaconda\\lib\\site-packages\\sklearn\\utils\\validation.py:1688: FutureWarning: Feature names only support names that are all strings. Got feature names with dtypes: ['int', 'str']. An error will be raised in 1.2.\n",
      "  warnings.warn(\n",
      "D:\\anaconda\\lib\\site-packages\\sklearn\\utils\\validation.py:1688: FutureWarning: Feature names only support names that are all strings. Got feature names with dtypes: ['int', 'str']. An error will be raised in 1.2.\n",
      "  warnings.warn(\n"
     ]
    },
    {
     "name": "stdout",
     "output_type": "stream",
     "text": [
      "              precision    recall  f1-score   support\n",
      "\n",
      "           0       0.98      0.98      0.98       231\n",
      "           1       0.33      0.33      0.33         6\n",
      "\n",
      "    accuracy                           0.97       237\n",
      "   macro avg       0.66      0.66      0.66       237\n",
      "weighted avg       0.97      0.97      0.97       237\n",
      "\n"
     ]
    }
   ],
   "source": [
    "logistic_model = LogisticRegression()\n",
    "logistic_model.fit(X_train_resampled, y_train_resampled)\n",
    "# Make predictions on the test set\n",
    "y_pred = logistic_model.predict(X_test)\n",
    "# Evaluate the model\n",
    "print(classification_report(y_test, y_pred))"
   ]
  },
  {
   "cell_type": "code",
   "execution_count": 21,
   "id": "66ddad41",
   "metadata": {
    "scrolled": true
   },
   "outputs": [
    {
     "data": {
      "text/plain": [
       "802     0\n",
       "1001    0\n",
       "1047    0\n",
       "86      0\n",
       "933     0\n",
       "       ..\n",
       "139     0\n",
       "423     0\n",
       "823     0\n",
       "224     0\n",
       "965     0\n",
       "Name: Bookmark, Length: 237, dtype: int64"
      ]
     },
     "execution_count": 21,
     "metadata": {},
     "output_type": "execute_result"
    }
   ],
   "source": [
    "y_test"
   ]
  },
  {
   "cell_type": "code",
   "execution_count": 22,
   "id": "7efad3d4",
   "metadata": {},
   "outputs": [
    {
     "data": {
      "text/plain": [
       "array([0, 0, 0, 0, 0, 0, 0, 0, 0, 0, 0, 0, 0, 0, 0, 0, 0, 0, 0, 0, 0, 0,\n",
       "       0, 0, 0, 0, 0, 0, 0, 0, 0, 0, 0, 0, 0, 0, 0, 0, 0, 0, 0, 0, 0, 0,\n",
       "       0, 0, 0, 0, 0, 0, 0, 0, 0, 0, 0, 0, 0, 0, 0, 0, 0, 0, 1, 0, 0, 0,\n",
       "       0, 0, 0, 0, 0, 0, 0, 0, 0, 0, 0, 0, 0, 0, 0, 0, 0, 0, 0, 0, 0, 0,\n",
       "       0, 0, 0, 0, 0, 0, 0, 0, 0, 0, 0, 0, 0, 0, 0, 0, 0, 0, 0, 0, 1, 0,\n",
       "       0, 0, 1, 0, 0, 0, 0, 0, 0, 0, 0, 0, 0, 0, 0, 0, 1, 0, 0, 0, 0, 0,\n",
       "       0, 0, 0, 0, 0, 0, 0, 0, 0, 0, 0, 0, 0, 0, 0, 0, 0, 0, 0, 0, 0, 0,\n",
       "       1, 0, 0, 0, 0, 0, 0, 0, 0, 0, 0, 0, 0, 0, 0, 0, 0, 0, 0, 0, 0, 0,\n",
       "       0, 0, 0, 0, 0, 0, 0, 0, 0, 0, 0, 0, 0, 0, 0, 0, 0, 0, 0, 0, 0, 0,\n",
       "       0, 0, 0, 0, 0, 0, 0, 0, 0, 0, 0, 0, 0, 0, 0, 0, 0, 0, 0, 0, 0, 0,\n",
       "       0, 0, 1, 0, 0, 0, 0, 0, 0, 0, 0, 0, 0, 0, 0, 0, 0], dtype=int64)"
      ]
     },
     "execution_count": 22,
     "metadata": {},
     "output_type": "execute_result"
    }
   ],
   "source": [
    "y_pred"
   ]
  },
  {
   "cell_type": "code",
   "execution_count": 23,
   "id": "342665a9",
   "metadata": {},
   "outputs": [],
   "source": [
    "y_test_series = pd.Series(y_test)"
   ]
  },
  {
   "cell_type": "code",
   "execution_count": 24,
   "id": "99a951dc",
   "metadata": {},
   "outputs": [],
   "source": [
    "y_test_lst = y_test_series.to_list()"
   ]
  },
  {
   "cell_type": "code",
   "execution_count": 25,
   "id": "eca47d25",
   "metadata": {},
   "outputs": [
    {
     "data": {
      "text/plain": [
       "[0,\n",
       " 0,\n",
       " 0,\n",
       " 0,\n",
       " 0,\n",
       " 1,\n",
       " 0,\n",
       " 0,\n",
       " 0,\n",
       " 0,\n",
       " 0,\n",
       " 0,\n",
       " 0,\n",
       " 0,\n",
       " 0,\n",
       " 1,\n",
       " 0,\n",
       " 0,\n",
       " 0,\n",
       " 0,\n",
       " 0,\n",
       " 0,\n",
       " 0,\n",
       " 0,\n",
       " 0,\n",
       " 0,\n",
       " 0,\n",
       " 0,\n",
       " 0,\n",
       " 0,\n",
       " 0,\n",
       " 0,\n",
       " 0,\n",
       " 0,\n",
       " 0,\n",
       " 0,\n",
       " 0,\n",
       " 0,\n",
       " 0,\n",
       " 0,\n",
       " 0,\n",
       " 0,\n",
       " 0,\n",
       " 0,\n",
       " 0,\n",
       " 0,\n",
       " 0,\n",
       " 0,\n",
       " 0,\n",
       " 0,\n",
       " 0,\n",
       " 0,\n",
       " 0,\n",
       " 0,\n",
       " 0,\n",
       " 0,\n",
       " 0,\n",
       " 0,\n",
       " 0,\n",
       " 0,\n",
       " 0,\n",
       " 0,\n",
       " 1,\n",
       " 0,\n",
       " 0,\n",
       " 0,\n",
       " 0,\n",
       " 0,\n",
       " 0,\n",
       " 0,\n",
       " 0,\n",
       " 0,\n",
       " 0,\n",
       " 0,\n",
       " 0,\n",
       " 0,\n",
       " 0,\n",
       " 0,\n",
       " 0,\n",
       " 0,\n",
       " 0,\n",
       " 0,\n",
       " 0,\n",
       " 0,\n",
       " 0,\n",
       " 0,\n",
       " 0,\n",
       " 0,\n",
       " 0,\n",
       " 0,\n",
       " 0,\n",
       " 0,\n",
       " 0,\n",
       " 1,\n",
       " 1,\n",
       " 0,\n",
       " 0,\n",
       " 0,\n",
       " 0,\n",
       " 0,\n",
       " 0,\n",
       " 0,\n",
       " 0,\n",
       " 0,\n",
       " 0,\n",
       " 0,\n",
       " 0,\n",
       " 0,\n",
       " 0,\n",
       " 0,\n",
       " 0,\n",
       " 0,\n",
       " 0,\n",
       " 0,\n",
       " 0,\n",
       " 0,\n",
       " 0,\n",
       " 0,\n",
       " 0,\n",
       " 0,\n",
       " 0,\n",
       " 0,\n",
       " 0,\n",
       " 0,\n",
       " 0,\n",
       " 0,\n",
       " 1,\n",
       " 0,\n",
       " 0,\n",
       " 0,\n",
       " 0,\n",
       " 0,\n",
       " 0,\n",
       " 0,\n",
       " 0,\n",
       " 0,\n",
       " 0,\n",
       " 0,\n",
       " 0,\n",
       " 0,\n",
       " 0,\n",
       " 0,\n",
       " 0,\n",
       " 0,\n",
       " 0,\n",
       " 0,\n",
       " 0,\n",
       " 0,\n",
       " 0,\n",
       " 0,\n",
       " 0,\n",
       " 0,\n",
       " 0,\n",
       " 0,\n",
       " 0,\n",
       " 0,\n",
       " 0,\n",
       " 0,\n",
       " 0,\n",
       " 0,\n",
       " 0,\n",
       " 0,\n",
       " 0,\n",
       " 0,\n",
       " 0,\n",
       " 0,\n",
       " 0,\n",
       " 0,\n",
       " 0,\n",
       " 0,\n",
       " 0,\n",
       " 0,\n",
       " 0,\n",
       " 0,\n",
       " 0,\n",
       " 0,\n",
       " 0,\n",
       " 0,\n",
       " 0,\n",
       " 0,\n",
       " 0,\n",
       " 0,\n",
       " 0,\n",
       " 0,\n",
       " 0,\n",
       " 0,\n",
       " 0,\n",
       " 0,\n",
       " 0,\n",
       " 0,\n",
       " 0,\n",
       " 0,\n",
       " 0,\n",
       " 0,\n",
       " 0,\n",
       " 0,\n",
       " 0,\n",
       " 0,\n",
       " 0,\n",
       " 0,\n",
       " 0,\n",
       " 0,\n",
       " 0,\n",
       " 0,\n",
       " 0,\n",
       " 0,\n",
       " 0,\n",
       " 0,\n",
       " 0,\n",
       " 0,\n",
       " 0,\n",
       " 0,\n",
       " 0,\n",
       " 0,\n",
       " 0,\n",
       " 0,\n",
       " 0,\n",
       " 0,\n",
       " 0,\n",
       " 0,\n",
       " 0,\n",
       " 0,\n",
       " 0,\n",
       " 0,\n",
       " 0,\n",
       " 0,\n",
       " 0,\n",
       " 0,\n",
       " 0,\n",
       " 0,\n",
       " 0,\n",
       " 0,\n",
       " 0,\n",
       " 0,\n",
       " 0,\n",
       " 0,\n",
       " 0]"
      ]
     },
     "execution_count": 25,
     "metadata": {},
     "output_type": "execute_result"
    }
   ],
   "source": [
    "y_test_lst"
   ]
  },
  {
   "cell_type": "code",
   "execution_count": 26,
   "id": "a238b385",
   "metadata": {},
   "outputs": [
    {
     "name": "stdout",
     "output_type": "stream",
     "text": [
      "True Positives (TP): 2\n",
      "False Positives (FP): 4\n",
      "True Negatives (TN): 227\n",
      "False Negatives (FN): 4\n"
     ]
    }
   ],
   "source": [
    "from sklearn.metrics import confusion_matrix\n",
    "conf_matrix = confusion_matrix(y_test_lst, y_pred)\n",
    "# Extract TP, FP, TN, FN from confusion matrix\n",
    "TP = conf_matrix[1, 1]\n",
    "FP = conf_matrix[0, 1]\n",
    "TN = conf_matrix[0, 0]\n",
    "FN = conf_matrix[1, 0]\n",
    "print(\"True Positives (TP):\", TP)\n",
    "print(\"False Positives (FP):\", FP)\n",
    "print(\"True Negatives (TN):\", TN)\n",
    "print(\"False Negatives (FN):\", FN)"
   ]
  },
  {
   "cell_type": "code",
   "execution_count": null,
   "id": "2ad4879c",
   "metadata": {},
   "outputs": [],
   "source": []
  },
  {
   "cell_type": "code",
   "execution_count": 27,
   "id": "8f8bf29f",
   "metadata": {},
   "outputs": [
    {
     "name": "stdout",
     "output_type": "stream",
     "text": [
      "Predicted class: 0\n"
     ]
    },
    {
     "name": "stderr",
     "output_type": "stream",
     "text": [
      "D:\\anaconda\\lib\\site-packages\\sklearn\\utils\\validation.py:1688: FutureWarning: Feature names only support names that are all strings. Got feature names with dtypes: ['int', 'str']. An error will be raised in 1.2.\n",
      "  warnings.warn(\n"
     ]
    }
   ],
   "source": [
    "# Preprocess the raw data\n",
    "raw_data = pd.DataFrame({\n",
    "    'Summary': [\"PSU banking stocks drag down Sensex, Nifty; analysts say consolidation likely to prolong\"],\n",
    "    'Sentiment': [-0.99],\n",
    "    'Headline': [\"Analysts expect markets to observe consolidation for the next few days as valuations look stretched and investors approach the fag end of earnings season\"],\n",
    "    'Source': [\"Money Control\"]\n",
    "})\n",
    "# Preprocess the text data\n",
    "X_text_raw = raw_data[['Summary']].astype(str).apply(lambda x: ' '.join(x), axis=1)\n",
    "X_text_raw_tfidf = tfidf_vectorizer.transform(X_text_raw)\n",
    "# Concatenate TF-IDF features with Sentiment feature\n",
    "X_raw_processed = pd.concat([pd.DataFrame(X_text_raw_tfidf.toarray()), raw_data['Sentiment']], axis=1)\n",
    "# Make predictions\n",
    "predictions = logistic_model.predict(X_raw_processed)\n",
    "# Output the prediction\n",
    "print(\"Predicted class:\", predictions[0])\n"
   ]
  },
  {
   "cell_type": "code",
   "execution_count": 28,
   "id": "3fc6b2f6",
   "metadata": {},
   "outputs": [
    {
     "data": {
      "text/plain": [
       "['tfidf_vectorizer.joblib']"
      ]
     },
     "execution_count": 28,
     "metadata": {},
     "output_type": "execute_result"
    }
   ],
   "source": [
    "from joblib import dump\n",
    "# Assuming 'logistic_model' is your trained model\n",
    "logistic_vanilla = logistic_model  # Assuming 'logistic_model' is the trained model\n",
    "dump(logistic_vanilla, 'logistic_vanilla.joblib')\n",
    "# Save the trained TF-IDF vectorizer\n",
    "dump(tfidf_vectorizer, 'tfidf_vectorizer.joblib')\n"
   ]
  },
  {
   "cell_type": "code",
   "execution_count": 29,
   "id": "101dc3a1",
   "metadata": {},
   "outputs": [],
   "source": [
    "Combined_df['Source'] = Combined_df['Source'].map({'Zerodha': 0, 'Money Control': 1, 'Economic Times': 2})"
   ]
  },
  {
   "cell_type": "code",
   "execution_count": 30,
   "id": "5cdaf2cf",
   "metadata": {},
   "outputs": [
    {
     "name": "stderr",
     "output_type": "stream",
     "text": [
      "D:\\anaconda\\lib\\site-packages\\sklearn\\utils\\validation.py:1688: FutureWarning: Feature names only support names that are all strings. Got feature names with dtypes: ['int', 'str']. An error will be raised in 1.2.\n",
      "  warnings.warn(\n"
     ]
    }
   ],
   "source": [
    "tfidf_vectorizer_source_map = TfidfVectorizer()\n",
    "X_text = Combined_df[['Summary', 'Headline']].astype(str).apply(lambda x: ' '.join(x), axis=1)\n",
    "X_text_tfidf = tfidf_vectorizer_source_map.fit_transform(X_text)\n",
    "# Concatenating TF-IDF features with Sentiment feature\n",
    "X_processed = pd.concat([pd.DataFrame(X_text_tfidf.toarray()), Combined_df[['Summary Sentiment', 'Source']]], axis=1)\n",
    "y = Combined_df['Bookmark']\n",
    "# Splitting the data into training and testing sets\n",
    "X_train, X_test, y_train, y_test = train_test_split(X_processed, y, test_size=0.2, random_state=42)\n",
    "# Applying SMOTE to balance the dataset\n",
    "smote = SMOTE(random_state=42)\n",
    "X_train_resampled, y_train_resampled = smote.fit_resample(X_train, y_train)"
   ]
  },
  {
   "cell_type": "code",
   "execution_count": 31,
   "id": "64bd205c",
   "metadata": {},
   "outputs": [
    {
     "name": "stderr",
     "output_type": "stream",
     "text": [
      "D:\\anaconda\\lib\\site-packages\\sklearn\\utils\\validation.py:1688: FutureWarning: Feature names only support names that are all strings. Got feature names with dtypes: ['int', 'str']. An error will be raised in 1.2.\n",
      "  warnings.warn(\n",
      "D:\\anaconda\\lib\\site-packages\\sklearn\\utils\\validation.py:1688: FutureWarning: Feature names only support names that are all strings. Got feature names with dtypes: ['int', 'str']. An error will be raised in 1.2.\n",
      "  warnings.warn(\n"
     ]
    },
    {
     "name": "stdout",
     "output_type": "stream",
     "text": [
      "              precision    recall  f1-score   support\n",
      "\n",
      "           0       0.98      0.98      0.98       231\n",
      "           1       0.29      0.33      0.31         6\n",
      "\n",
      "    accuracy                           0.96       237\n",
      "   macro avg       0.63      0.66      0.64       237\n",
      "weighted avg       0.96      0.96      0.96       237\n",
      "\n"
     ]
    }
   ],
   "source": [
    "logistic_source_map = LogisticRegression()\n",
    "logistic_source_map.fit(X_train_resampled, y_train_resampled)\n",
    "# Make predictions on the test set\n",
    "y_pred = logistic_source_map.predict(X_test)\n",
    "# Evaluate the model\n",
    "print(classification_report(y_test, y_pred))"
   ]
  },
  {
   "cell_type": "code",
   "execution_count": 32,
   "id": "b2dac7d2",
   "metadata": {},
   "outputs": [
    {
     "data": {
      "text/plain": [
       "['tfidf_vectorizer_source_map.joblib']"
      ]
     },
     "execution_count": 32,
     "metadata": {},
     "output_type": "execute_result"
    }
   ],
   "source": [
    "from joblib import dump\n",
    "# Assuming 'logistic_source_map' is your trained model\n",
    "logistic_vanilla_source_map = logistic_source_map  # Assuming 'logistic_model' is the trained model\n",
    "dump(logistic_vanilla_source_map, 'logistic_vanilla_source_map.joblib')\n",
    "# Save the trained TF-IDF vectorizer\n",
    "dump(tfidf_vectorizer_source_map, 'tfidf_vectorizer_source_map.joblib')\n"
   ]
  },
  {
   "cell_type": "code",
   "execution_count": 33,
   "id": "410c71a0",
   "metadata": {},
   "outputs": [],
   "source": [
    "mymodel = GradientBoostingClassifier(learning_rate=0.1, min_samples_split=500,min_samples_leaf=50,max_depth=8,max_features='sqrt',subsample=0.8,random_state=10)"
   ]
  },
  {
   "cell_type": "code",
   "execution_count": 34,
   "id": "9444fe19",
   "metadata": {},
   "outputs": [
    {
     "name": "stderr",
     "output_type": "stream",
     "text": [
      "D:\\anaconda\\lib\\site-packages\\sklearn\\utils\\validation.py:1688: FutureWarning: Feature names only support names that are all strings. Got feature names with dtypes: ['int', 'str']. An error will be raised in 1.2.\n",
      "  warnings.warn(\n"
     ]
    },
    {
     "data": {
      "text/plain": [
       "({'n_estimators': 370}, 0.9999764982373678)"
      ]
     },
     "execution_count": 34,
     "metadata": {},
     "output_type": "execute_result"
    }
   ],
   "source": [
    "param_test1 = {'n_estimators':range(10,400,10)}\n",
    "from sklearn.model_selection import GridSearchCV\n",
    "CV_gbc = GridSearchCV(estimator= mymodel, param_grid=param_test1, scoring='roc_auc',n_jobs=4, cv= 5)\n",
    "CV_gbc.fit(X_train_resampled,y_train_resampled)\n",
    "CV_gbc.best_params_, CV_gbc.best_score_"
   ]
  },
  {
   "cell_type": "code",
   "execution_count": 35,
   "id": "779c5344",
   "metadata": {},
   "outputs": [
    {
     "name": "stderr",
     "output_type": "stream",
     "text": [
      "D:\\anaconda\\lib\\site-packages\\sklearn\\utils\\validation.py:1688: FutureWarning: Feature names only support names that are all strings. Got feature names with dtypes: ['int', 'str']. An error will be raised in 1.2.\n",
      "  warnings.warn(\n"
     ]
    },
    {
     "data": {
      "text/plain": [
       "({'max_depth': 5, 'min_samples_split': 700}, 1.0)"
      ]
     },
     "execution_count": 35,
     "metadata": {},
     "output_type": "execute_result"
    }
   ],
   "source": [
    "param_test2 = {'max_depth':range(5,9,1), 'min_samples_split':range(400,800,100)}\n",
    "gbc = GridSearchCV(estimator = GradientBoostingClassifier(learning_rate=0.2, n_estimators=370, max_features='sqrt', subsample=0.8, random_state=10), \n",
    "param_grid = param_test2, scoring='roc_auc',n_jobs=4, cv=5)\n",
    "gbc.fit(X_train_resampled,y_train_resampled)\n",
    "gbc.best_params_, gbc.best_score_"
   ]
  },
  {
   "cell_type": "code",
   "execution_count": null,
   "id": "7ec4c567",
   "metadata": {},
   "outputs": [],
   "source": [
    "#LSTM#"
   ]
  },
  {
   "cell_type": "code",
   "execution_count": 1,
   "id": "430b260e",
   "metadata": {
    "scrolled": true
   },
   "outputs": [
    {
     "name": "stderr",
     "output_type": "stream",
     "text": [
      "D:\\anaconda\\lib\\site-packages\\scipy\\__init__.py:155: UserWarning: A NumPy version >=1.18.5 and <1.25.0 is required for this version of SciPy (detected version 1.26.4\n",
      "  warnings.warn(f\"A NumPy version >={np_minversion} and <{np_maxversion}\"\n"
     ]
    },
    {
     "name": "stdout",
     "output_type": "stream",
     "text": [
      "WARNING:tensorflow:From D:\\anaconda\\lib\\site-packages\\keras\\src\\losses.py:2976: The name tf.losses.sparse_softmax_cross_entropy is deprecated. Please use tf.compat.v1.losses.sparse_softmax_cross_entropy instead.\n",
      "\n"
     ]
    }
   ],
   "source": [
    "from tensorflow.keras.models import Sequential"
   ]
  },
  {
   "cell_type": "code",
   "execution_count": 3,
   "id": "fcd1af74",
   "metadata": {
    "scrolled": true
   },
   "outputs": [
    {
     "name": "stdout",
     "output_type": "stream",
     "text": [
      "WARNING:tensorflow:From D:\\anaconda\\lib\\site-packages\\keras\\src\\backend.py:873: The name tf.get_default_graph is deprecated. Please use tf.compat.v1.get_default_graph instead.\n",
      "\n"
     ]
    }
   ],
   "source": [
    "model = Sequential()"
   ]
  },
  {
   "cell_type": "code",
   "execution_count": 8,
   "id": "60d72989",
   "metadata": {},
   "outputs": [],
   "source": [
    "from tensorflow.keras.models import Sequential\n",
    "from tensorflow.keras.layers import Embedding\n",
    "from tensorflow.keras.layers import LSTM\n",
    "from tensorflow.keras.layers import Dense"
   ]
  },
  {
   "cell_type": "code",
   "execution_count": 6,
   "id": "e6f1c76e",
   "metadata": {},
   "outputs": [],
   "source": [
    "feature_num=100\n",
    "sentence_len = 200\n",
    "vocab_size = 10000\n",
    "model.add(\n",
    "    Embedding(\n",
    "        input_dim=vocab_size,\n",
    "        output_dim=feature_num,\n",
    "        input_length=sentence_len\n",
    "    )\n",
    ")"
   ]
  },
  {
   "cell_type": "code",
   "execution_count": 9,
   "id": "94dfea6a",
   "metadata": {},
   "outputs": [],
   "source": [
    "model.add(\n",
    "    Dense(\n",
    "        units=1,\n",
    "        activation=\"sigmoid\"\n",
    "    )\n",
    ")"
   ]
  },
  {
   "cell_type": "code",
   "execution_count": 10,
   "id": "5caabbf6",
   "metadata": {},
   "outputs": [],
   "source": [
    "from tensorflow.keras.optimizers import Adam\n",
    "model.compile(\n",
    "    optimizer=Adam(\n",
    "    learning_rate=0.001\n",
    "    ),\n",
    "    loss=\"binary_crossentropy\",\n",
    "    metrics=[\"accuracy\"]\n",
    ")"
   ]
  },
  {
   "cell_type": "code",
   "execution_count": null,
   "id": "9a346da2",
   "metadata": {},
   "outputs": [],
   "source": []
  }
 ],
 "metadata": {
  "kernelspec": {
   "display_name": "Python 3 (ipykernel)",
   "language": "python",
   "name": "python3"
  },
  "language_info": {
   "codemirror_mode": {
    "name": "ipython",
    "version": 3
   },
   "file_extension": ".py",
   "mimetype": "text/x-python",
   "name": "python",
   "nbconvert_exporter": "python",
   "pygments_lexer": "ipython3",
   "version": "3.9.13"
  }
 },
 "nbformat": 4,
 "nbformat_minor": 5
}
